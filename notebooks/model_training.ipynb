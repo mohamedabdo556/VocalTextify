{
 "cells": [
  {
   "cell_type": "code",
   "execution_count": null,
   "metadata": {},
   "outputs": [],
   "source": [
    "import torch\n",
    "import torch.nn as nn\n",
    "from torch.utils.data import DataLoader\n",
    "from model import SpeechToTextModel  # استيراد نموذج التعرف على الكلام\n",
    "\n",
    "# إعداد البيانات\n",
    "train_data_loader = DataLoader(processed_data, batch_size=32, shuffle=True)\n",
    "\n",
    "# إنشاء نموذج\n",
    "model = SpeechToTextModel(input_dim=40, hidden_dim=128, output_dim=len(\"abcdefghijklmnopqrstuvwxyz\"))\n",
    "\n",
    "# إعداد الخوارزميات (Optimizer, Loss function)\n",
    "optimizer = torch.optim.Adam(model.parameters(), lr=0.001)\n",
    "loss_function = nn.CrossEntropyLoss()\n",
    "\n",
    "# تدريب النموذج\n",
    "for epoch in range(10):  # مثال على 10 حروب تدريب\n",
    "    model.train()\n",
    "    for batch_idx, (features, labels) in enumerate(train_data_loader):\n",
    "        optimizer.zero_grad()\n",
    "        outputs = model(features)\n",
    "        loss = loss_function(outputs, labels)\n",
    "        loss.backward()\n",
    "        optimizer.step()\n",
    "\n",
    "    print(f\"Epoch {epoch+1}, Loss: {loss.item()}\")\n"
   ]
  }
 ],
 "metadata": {
  "kernelspec": {
   "display_name": "Python 3",
   "language": "python",
   "name": "python3"
  },
  "language_info": {
   "name": "python",
   "version": "3.12.4"
  }
 },
 "nbformat": 4,
 "nbformat_minor": 2
}
