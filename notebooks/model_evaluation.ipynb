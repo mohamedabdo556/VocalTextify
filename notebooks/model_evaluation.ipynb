{
 "cells": [
  {
   "cell_type": "code",
   "execution_count": null,
   "metadata": {},
   "outputs": [],
   "source": [
    "from sklearn.metrics import accuracy_score\n",
    "from data_loader import get_test_data_loader  # استيراد دالة تحميل بيانات الاختبار\n",
    "\n",
    "# تحميل بيانات الاختبار\n",
    "test_loader = get_test_data_loader()\n",
    "\n",
    "# تقييم النموذج\n",
    "model.eval()\n",
    "predictions = []\n",
    "labels = []\n",
    "\n",
    "with torch.no_grad():\n",
    "    for batch_idx, (features, label) in enumerate(test_loader):\n",
    "        outputs = model(features)\n",
    "        _, predicted = torch.max(outputs, dim=1)\n",
    "        predictions.extend(predicted)\n",
    "        labels.extend(label)\n",
    "\n",
    "# حساب الدقة\n",
    "accuracy = accuracy_score(labels, predictions)\n",
    "print(f\"Model Accuracy: {accuracy:.4f}\")\n"
   ]
  },
  {
   "cell_type": "code",
   "execution_count": null,
   "metadata": {},
   "outputs": [],
   "source": []
  }
 ],
 "metadata": {
  "kernelspec": {
   "display_name": "Python 3",
   "language": "python",
   "name": "python3"
  },
  "language_info": {
   "name": "python",
   "version": "3.12.4"
  }
 },
 "nbformat": 4,
 "nbformat_minor": 2
}
